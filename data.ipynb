{
 "cells": [
  {
   "cell_type": "code",
   "execution_count": 2,
   "metadata": {},
   "outputs": [
    {
     "name": "stderr",
     "output_type": "stream",
     "text": [
      "USER_AGENT environment variable not set, consider setting it to identify your requests.\n"
     ]
    }
   ],
   "source": [
    "from langchain.document_loaders import WebBaseLoader\n",
    "\n",
    "# Extract data from the specified URL\n",
    "url = \"https://brainlox.com/courses/category/technical\"\n",
    "loader = WebBaseLoader(url)\n",
    "docs = loader.load()\n"
   ]
  },
  {
   "cell_type": "code",
   "execution_count": 3,
   "metadata": {},
   "outputs": [],
   "source": [
    "import chromadb\n",
    "from langchain.vectorstores import Chroma\n",
    "  # Chroma's own embeddings\n",
    "\n",
    "# Initialize Chroma client\n",
    "client = chromadb.Client()\n",
    "\n",
    "# Define the Chroma collection\n",
    "collection = client.create_collection(\"courses_collection\")"
   ]
  },
  {
   "cell_type": "code",
   "execution_count": 4,
   "metadata": {},
   "outputs": [
    {
     "data": {
      "text/plain": [
       "[Document(metadata={'source': 'https://brainlox.com/courses/category/technical', 'title': 'Brainlox: Learn technical courses.', 'description': 'Your one stop education destination!', 'language': 'zxx'}, page_content='Brainlox: Learn technical courses.Courses TechnicalAcademicLanguageMusicLifestyleBook a Free Demo NowSign InFAQContact UsHomeCoursesCoursesWe found great courses available for you$30per sessionLEARN SCRATCH PROGRAMING\\nScratch Course is the foundation of coding and is a building block of a coding journey. If you want 16 LessonsView Details$30per sessionLEARN CLOUD COMPUTING BASICS-AWS\\nIn this course we are going to cover the basics and the most important services on AWS,\\nAt the end  20 LessonsView Details$30per sessionLEARN MOBILE DEVELOPMENT\\nMobile application development is the process of creating software applications that run on a mobil 24 LessonsView Details$30per sessionLEARN CORE JAVA PROGRAMMING ONLINE\\nJava is a very popular high-level, class-based, object-oriented programming language that is design 41 LessonsView Details$30per sessionLEARN ROBOTICS\\nYou can open all kinds of doors for advancement in so many careers with a basic understanding of el 25 LessonsView Details$30per sessionLEARN JAVASCRIPT\\nJavaScript is the most popular programming language in the world. It powers the entire modern web.  18 LessonsView Details$30per sessionLEARN NODE JS\\nNode.js developers are in high demand and the language is used for everything from traditional web  18 LessonsView Details$35per sessionLEARN CLOUD COMPUTING ADVANCE-AWSDESCRIPTION\\nThis introduction to cloud computing on Amazon AWS course takes you from the AWS Ad 18 LessonsView Details$30per sessionPYTHON PROGRAMMING-BEGINNER\\nPython is a language with simple syntax, and a powerful set of libraries. It has a rich programming 16 LessonsView Details$30per sessionRoblox Programming For BeginnersExplore the dynamic universe of game development with our \"Roblox Game Development Fundamentals\" cou 15 LessonsView Details$32per sessionPYTHON PROGRAMMING-INTERMEDIATE\\nTake your python skills to the next level and start building real applications.\\nPython is a pro 16 LessonsView Details$35per sessionPYTHON PROGRAMMING-ADVANCEIf you already know Python basics, then this training is the next step in your Python learning path  30 LessonsView Details$30per sessionPYTHON PROGRAMMING GROUP CLASSES - BEGINNER\\nPython is a language with simple syntax, and a powerful set of libraries. It has a rich programming 16 LessonsView Details$35per sessionAdvanced Roblox Scripting Workshop\"Are you ready to unlock the full potential of your Roblox game development skills? Join our Interme 14 LessonsView Details$30per sessionRobotics Adventure Awaits:Join Our Summer Camp for Young Tech Wizards!This course is designed to introduce beginners to the world of robotics. Learners will be taught the 16 LessonsView Details$30per sessionJava Project-Based CourseJava Project-Based Course for Intermediate Level Students ;Overview: This course is designed for int 7 LessonsView Details$30per sessionArtificial Intelligence Adventures: Building AI Chatbot Like Chatgpt (For Kids)Unlock the power of AI chatbots in our 10-day course! Gain comprehensive knowledge of chatbot develo 10 LessonsView Details$30per sessionPython Playground: Create a Hangman GamePython Playground : Create a Hangman Game is an exciting and engaging course designed specifically f 8 LessonsView Details$30per sessionScratch Playground: Create a Maze Game!Scratch Playground : Create a Maze Game! is a beginner-level course designed to introduce kids to th 8 LessonsView Details$30per sessionArtificial Intelligence Essentials: Summer BootcampJoin us for this engaging 5-day summer bootcamp where we will explore the fascinating world of Artif 5 LessonsView Details$30per sessionTime Mastery Camp: AI for Jobs, Business, CareersThe \"AI for Productivity and Time Management\" course: 🚀💡\\nDay 1: Introduction to AI and its Applica 11 LessonsView Details$30per sessionBuild Your Own Theme Park in RobloxRoblox Studio fundamentals are taught through fun and interactive projects. Lectures, projects, hand 8 LessonsView Details$30per sessionJava Coding Summer Camp for Young MindsJava Journey: Coding Camp for Curious Minds\" is a fun-filled, 5-day adventure into the world of prog 5 LessonsView Details$30per sessionAI Camp for Entrepreneurs: Build Business SuccessWelcome to the world of AI in entrepreneurship!  In this course, we will embark on a thrilling journ 7 LessonsView Details$30per sessionChatGPT Boot Camp: Basics & Best UsesJoin us for an exciting journey into the world of AI chatbots with this 5-day bootcamp. You\\'ll learn 5 LessonsView Details$30per sessionCreate-A-Bot: A Project-Based Robotics ExplorationIgnite your child\\'s tech curiosity with our \"RoboRacers\" camp! Over five days, campers will delve in 5 LessonsView Details$30per sessionJava & Proramming\" Project outline for JAVA PROJECT BASED BOOTCAMP\\n1: Introduction to Java and Programming Basics.\\n2. 8 LessonsView Details$30per sessionChatbot Creators: Design a ChatGPT-like AIJoin us on a 7-day bootcamp to step into the world of AI and create your own chatbot like ChatGPT. Y 7 LessonsView Details$30per sessionWeb Development from scratchUnlock the boundless potential of web development with our \"Web Development Essentials\" course. Whet 6 LessonsView Details$30per sessionSummer Camp: Introduction to PythonStep into our 7-day \"Python Project Playground\" camp where coding meets creativity! Kids will explor 7 LessonsView Details$30per sessionAI Secrets Revealed: Master Productivity Hacks That Will Blow Your Mind! (For Kids)Boost your productivity with AI! \\n\\nJoin our \"AI for Productivity and Time Management\" course and lea 11 LessonsView Details$30per sessionSummer Bootcamp with JavaScript: Real Projects, Real ResultsIn this 5-day camp, you\\'ll dive headfirst into JavaScript, one of the world\\'s most popular programmi 5 LessonsView Details$30per sessionAI Disruption: Top Entrepreneurs Harnessing AI for Unprecedented Success! (For Kids)Understand the role and potential of AI in entrepreneurship, learn the fundamentals, explore data ac 7 LessonsView Details$30per sessionThe AI Writer\\'s Masterclass: Innovation and Inspiration in Creative Writing! (For Kids)Enhance your creative writing skills with AI! Join our 10-day course and explore AI\\'s role in writin 10 LessonsView Details$32per sessionWeb Development Pro: Intermediate LevelReady to unlock the full potential of web development? Join our \"Intermediate Web Development Master 8 LessonsView Details$30per sessionScratch Playground: Create a Scroller Game!Scratch Playground : Create a Scroller Game is an intermediate level course designed to teach kids t 8 LessonsView Details$30per sessionAI Pro: Creative Writing Camp for Adults🚀 Welcome to Creative Writing with AI for ADULTS! \\nUnleash your creativity with cutting-edge AI tec 10 LessonsView Details$30per sessionPython Playground: Create Your Own Snake GameThrough this course, participants will learn the fundamentals of Python programming language, as wel 8 LessonsView Details$30per sessionBuild your own Calculator using Python Bootcamp for kidsThis bootcamp is a fun and engaging program designed to introduce children to the basics of programm 8 LessonsView Details$30per sessionPython Playground: Create a Tic Tac Toe GameAn interactive and hands-on tutorial designed to help learners build their programming skills while  8 LessonsView Details$30per sessionScratch Playground: Create a Flappy Bird Game!Scratch Playground 103: Create a Flappy Bird is a beginner to intermediate level course designed to  8 LessonsView Details$30per sessionHTML, CSS, JavaScript: 7-Day Summer BootcampJump into the vibrant world of coding with our engaging 7-day summer camp! Starting from scratch, yo 7 LessonsView Details$30per sessionHands-on Java: Project-based Learning for Coding NovicesEmbark on a coding adventure with our \"Code, Create, Conquer\" Java camp! In just 7 days, kids will l 7 LessonsView Details$30per sessionPython Playground: Create a Memory GamePython Playground: Create a Memory Game is a beginner-level course designed for kids who are interes 8 LessonsView Details$30per sessionSummer Bootcamp: 5-Day Scratch Programming for BeginnersEmbark on an exciting coding adventure with our 5-day Scratch Programming camp! Designed for beginne 5 LessonsView Details$30per session5-Day Summer Camp: Python for BeginnersDive into coding with our 5-day \"Python Playground\" camp! Kids will explore Python, a popular langua 5 LessonsView Details$30per sessionBuild a Text analyzer using Python Bootcamp for kidsThe Build a Text Analyzer using Python Bootcamp for Kids is an educational program designed to intro 8 LessonsView Details$30per sessionScratch Playground : Create a Platformer Game!Scratch Playground : Create a Platformer Game is an intermediate level course designed to teach kids 8 LessonsView Details$30per sessionIntroduction to Artificial Intelligence!Welcome to the \"Introduction to Artificial Intelligence and Python\" course! This course is designed  5 LessonsView Details$30per sessionPython Playground: Create a Rock, Paper, Scissors GameThis is an engaging course designed for kids who are interested in learning programming with Python. 8 LessonsView Details$30per sessionAI in Stock Market Success: Career Growth Camp !!Are you ready to unlock the secrets of predicting stock prices using AI? 📈🤖 Join our immersive cou 10 LessonsView Details$30per sessionFrom Beginner to AI Pro: Kickstart Your Journey With Artificial Intelligence! (For Kids)Dive into the world of AI! 🤖 Join our \"Introduction to Artificial Intelligence\" course and unlock t 20 LessonsView Details$30per sessionGame development using python\\nWelcome to the \"Introduction to Python Game Development\" course! In this course, you\\'ll embark on a 4 LessonsView Details$30per sessionBuild a Image manipulator using Python Bootcamp for kidsThe Build a Image Manipulator using Python Bootcamp for Kids is a program designed to introduce chil 8 LessonsView Details$30per sessionBuild a Weather app using Python Bootcamp for kidsBuild a Weather App using Python Bootcamp for Kids is an educational program designed to introduce y 8 LessonsView Details$30per sessionBuild Your Own Roblox Battle ArenaRoblox Studio fundamentals are taught through fun and interactive projects. Lectures, projects, hand 8 LessonsView Details$30per sessionThe Millionaire\\'s AI Playbook: Learn How to Predict Stock Prices! (For Kids)Learn to predict stock prices using the incredible potential of AI and machine learning in our compr 10 LessonsView Details$30per sessionMachine Learning: 7-Day Project-Based Summer CampJoin our \"Machine Learning Mania\" camp for a 7-day tech adventure! Kids will tackle machine learning 7 LessonsView Details$30per sessionAI Pro Camp: Career Growth CatalystOur Intro to AI for Adults course is designed to equip professionals with essential knowledge and pr 20 LessonsView Details$30per sessionMinecraft Java Programming for BeginnersSession-1: Introduction to Java programming and Minecraft. Lesson 2: Getting Started in Creative Mod 7 LessonsView Details$30per sessionBuild a Chatbot using Python Bootcamp for kidsThis bootcamp is a fun and interactive program designed to teach children how to create their own ch 8 LessonsView Details$30per sessionBuild a Password generator using Python Bootcamp for kidsWelcome to the Build a Password Generator using Python Bootcamp for Kids! In this bootcamp, you will 8 LessonsView Details$30per sessionScratch Playground: Create a Space Game!Scratch Playground : Create a Space Game is an intermediate-level course designed to introduce kids  8 LessonsView Details$30per sessionCreate Your Own Roblox Obstacle CourseRoblox enthusiasts who want to learn how to design and build their own custom obstacle courses withi 8 LessonsView Details$30per sessionJava Minecraft Creative or Survival Mode1. Title: Minecraft Java Programming for Beginners Overview: This class is designed for complete beg 7 LessonsView Details$30per sessionAI Camp for Jobs & Business:Build Your own ChatGPT🌟Welcome to the Chatbot Mastery Course! 🎓\\n\\nGet ready to unlock the secrets of building intelligent 10 LessonsView Details$30per sessionHTML, CSS, JavaScript Essentials: 5-Day Coding BootcampUnleash your creativity in our fun and interactive 5-day summer camp. No prior experience needed. Yo 5 LessonsView DetailsWorking to bring significant changes in online-based learning by doing extensive research for course curriculum preparation, student engagements, and looking forward to the flexible education!ExploreHomeCoursesGift a CourseShare a MessageResourcesFAQContactAddressUSA(+1) 414 429 3937support@brainlox.com(+1) 414 429 39372025 BrainloxPrivacy PolicyTerms & Conditions')]"
      ]
     },
     "execution_count": 4,
     "metadata": {},
     "output_type": "execute_result"
    }
   ],
   "source": [
    "docs"
   ]
  },
  {
   "cell_type": "code",
   "execution_count": 5,
   "metadata": {},
   "outputs": [
    {
     "ename": "NameError",
     "evalue": "name 'courses' is not defined",
     "output_type": "error",
     "traceback": [
      "\u001b[0;31m---------------------------------------------------------------------------\u001b[0m",
      "\u001b[0;31mNameError\u001b[0m                                 Traceback (most recent call last)",
      "Cell \u001b[0;32mIn[5], line 10\u001b[0m\n\u001b[1;32m      8\u001b[0m     \u001b[38;5;28;01mfor\u001b[39;00m course \u001b[38;5;129;01min\u001b[39;00m course_data:\n\u001b[1;32m      9\u001b[0m         \u001b[38;5;28;01mif\u001b[39;00m \u001b[38;5;28mlen\u001b[39m(course\u001b[38;5;241m.\u001b[39mstrip()) \u001b[38;5;241m>\u001b[39m \u001b[38;5;241m0\u001b[39m:  \u001b[38;5;66;03m# Ensure the course data is not empty\u001b[39;00m\n\u001b[0;32m---> 10\u001b[0m             \u001b[43mcourses\u001b[49m\u001b[38;5;241m.\u001b[39mappend(course\u001b[38;5;241m.\u001b[39mstrip())\n\u001b[1;32m     12\u001b[0m \u001b[38;5;66;03m# Now, courses is a list of individual course descriptions\u001b[39;00m\n",
      "\u001b[0;31mNameError\u001b[0m: name 'courses' is not defined"
     ]
    }
   ],
   "source": [
    "\n",
    "\n",
    "# Iterate through the loaded docs and extract relevant course information\n",
    "for doc in docs:\n",
    "    content = doc.page_content\n",
    "    # Split the page content by each course using patterns such as \"$30per session\"\n",
    "    # or based on the courses' structure.\n",
    "    course_data = content.split('$30per session')\n",
    "    \n",
    "    for course in course_data:\n",
    "        if len(course.strip()) > 0:  # Ensure the course data is not empty\n",
    "            courses.append(course.strip())\n",
    "\n",
    "# Now, courses is a list of individual course descriptions"
   ]
  },
  {
   "cell_type": "code",
   "execution_count": 6,
   "metadata": {},
   "outputs": [
    {
     "data": {
      "text/plain": [
       "['Brainlox: Learn technical courses.Courses TechnicalAcademicLanguageMusicLifestyleBook a Free Demo NowSign InFAQContact UsHomeCoursesCoursesWe found great courses available for you',\n",
       " 'LEARN SCRATCH PROGRAMING\\nScratch Course is the foundation of coding and is a building block of a coding journey. If you want 16 LessonsView Details',\n",
       " 'LEARN CLOUD COMPUTING BASICS-AWS\\nIn this course we are going to cover the basics and the most important services on AWS,\\nAt the end  20 LessonsView Details',\n",
       " 'LEARN MOBILE DEVELOPMENT\\nMobile application development is the process of creating software applications that run on a mobil 24 LessonsView Details',\n",
       " 'LEARN CORE JAVA PROGRAMMING ONLINE\\nJava is a very popular high-level, class-based, object-oriented programming language that is design 41 LessonsView Details',\n",
       " 'LEARN ROBOTICS\\nYou can open all kinds of doors for advancement in so many careers with a basic understanding of el 25 LessonsView Details',\n",
       " 'LEARN JAVASCRIPT\\nJavaScript is the most popular programming language in the world. It powers the entire modern web.  18 LessonsView Details',\n",
       " 'LEARN NODE JS\\nNode.js developers are in high demand and the language is used for everything from traditional web  18 LessonsView Details$35per sessionLEARN CLOUD COMPUTING ADVANCE-AWSDESCRIPTION\\nThis introduction to cloud computing on Amazon AWS course takes you from the AWS Ad 18 LessonsView Details',\n",
       " 'PYTHON PROGRAMMING-BEGINNER\\nPython is a language with simple syntax, and a powerful set of libraries. It has a rich programming 16 LessonsView Details',\n",
       " 'Roblox Programming For BeginnersExplore the dynamic universe of game development with our \"Roblox Game Development Fundamentals\" cou 15 LessonsView Details$32per sessionPYTHON PROGRAMMING-INTERMEDIATE\\nTake your python skills to the next level and start building real applications.\\nPython is a pro 16 LessonsView Details$35per sessionPYTHON PROGRAMMING-ADVANCEIf you already know Python basics, then this training is the next step in your Python learning path  30 LessonsView Details',\n",
       " 'PYTHON PROGRAMMING GROUP CLASSES - BEGINNER\\nPython is a language with simple syntax, and a powerful set of libraries. It has a rich programming 16 LessonsView Details$35per sessionAdvanced Roblox Scripting Workshop\"Are you ready to unlock the full potential of your Roblox game development skills? Join our Interme 14 LessonsView Details',\n",
       " 'Robotics Adventure Awaits:Join Our Summer Camp for Young Tech Wizards!This course is designed to introduce beginners to the world of robotics. Learners will be taught the 16 LessonsView Details',\n",
       " 'Java Project-Based CourseJava Project-Based Course for Intermediate Level Students ;Overview: This course is designed for int 7 LessonsView Details',\n",
       " 'Artificial Intelligence Adventures: Building AI Chatbot Like Chatgpt (For Kids)Unlock the power of AI chatbots in our 10-day course! Gain comprehensive knowledge of chatbot develo 10 LessonsView Details',\n",
       " 'Python Playground: Create a Hangman GamePython Playground : Create a Hangman Game is an exciting and engaging course designed specifically f 8 LessonsView Details',\n",
       " 'Scratch Playground: Create a Maze Game!Scratch Playground : Create a Maze Game! is a beginner-level course designed to introduce kids to th 8 LessonsView Details',\n",
       " 'Artificial Intelligence Essentials: Summer BootcampJoin us for this engaging 5-day summer bootcamp where we will explore the fascinating world of Artif 5 LessonsView Details',\n",
       " 'Time Mastery Camp: AI for Jobs, Business, CareersThe \"AI for Productivity and Time Management\" course: 🚀💡\\nDay 1: Introduction to AI and its Applica 11 LessonsView Details',\n",
       " 'Build Your Own Theme Park in RobloxRoblox Studio fundamentals are taught through fun and interactive projects. Lectures, projects, hand 8 LessonsView Details',\n",
       " 'Java Coding Summer Camp for Young MindsJava Journey: Coding Camp for Curious Minds\" is a fun-filled, 5-day adventure into the world of prog 5 LessonsView Details',\n",
       " 'AI Camp for Entrepreneurs: Build Business SuccessWelcome to the world of AI in entrepreneurship!  In this course, we will embark on a thrilling journ 7 LessonsView Details',\n",
       " \"ChatGPT Boot Camp: Basics & Best UsesJoin us for an exciting journey into the world of AI chatbots with this 5-day bootcamp. You'll learn 5 LessonsView Details\",\n",
       " 'Create-A-Bot: A Project-Based Robotics ExplorationIgnite your child\\'s tech curiosity with our \"RoboRacers\" camp! Over five days, campers will delve in 5 LessonsView Details',\n",
       " 'Java & Proramming\" Project outline for JAVA PROJECT BASED BOOTCAMP\\n1: Introduction to Java and Programming Basics.\\n2. 8 LessonsView Details',\n",
       " 'Chatbot Creators: Design a ChatGPT-like AIJoin us on a 7-day bootcamp to step into the world of AI and create your own chatbot like ChatGPT. Y 7 LessonsView Details',\n",
       " 'Web Development from scratchUnlock the boundless potential of web development with our \"Web Development Essentials\" course. Whet 6 LessonsView Details',\n",
       " 'Summer Camp: Introduction to PythonStep into our 7-day \"Python Project Playground\" camp where coding meets creativity! Kids will explor 7 LessonsView Details',\n",
       " 'AI Secrets Revealed: Master Productivity Hacks That Will Blow Your Mind! (For Kids)Boost your productivity with AI! \\n\\nJoin our \"AI for Productivity and Time Management\" course and lea 11 LessonsView Details',\n",
       " \"Summer Bootcamp with JavaScript: Real Projects, Real ResultsIn this 5-day camp, you'll dive headfirst into JavaScript, one of the world's most popular programmi 5 LessonsView Details\",\n",
       " 'AI Disruption: Top Entrepreneurs Harnessing AI for Unprecedented Success! (For Kids)Understand the role and potential of AI in entrepreneurship, learn the fundamentals, explore data ac 7 LessonsView Details',\n",
       " 'The AI Writer\\'s Masterclass: Innovation and Inspiration in Creative Writing! (For Kids)Enhance your creative writing skills with AI! Join our 10-day course and explore AI\\'s role in writin 10 LessonsView Details$32per sessionWeb Development Pro: Intermediate LevelReady to unlock the full potential of web development? Join our \"Intermediate Web Development Master 8 LessonsView Details',\n",
       " 'Scratch Playground: Create a Scroller Game!Scratch Playground : Create a Scroller Game is an intermediate level course designed to teach kids t 8 LessonsView Details',\n",
       " 'AI Pro: Creative Writing Camp for Adults🚀 Welcome to Creative Writing with AI for ADULTS! \\nUnleash your creativity with cutting-edge AI tec 10 LessonsView Details',\n",
       " 'Python Playground: Create Your Own Snake GameThrough this course, participants will learn the fundamentals of Python programming language, as wel 8 LessonsView Details',\n",
       " 'Build your own Calculator using Python Bootcamp for kidsThis bootcamp is a fun and engaging program designed to introduce children to the basics of programm 8 LessonsView Details',\n",
       " 'Python Playground: Create a Tic Tac Toe GameAn interactive and hands-on tutorial designed to help learners build their programming skills while  8 LessonsView Details',\n",
       " 'Scratch Playground: Create a Flappy Bird Game!Scratch Playground 103: Create a Flappy Bird is a beginner to intermediate level course designed to  8 LessonsView Details',\n",
       " 'HTML, CSS, JavaScript: 7-Day Summer BootcampJump into the vibrant world of coding with our engaging 7-day summer camp! Starting from scratch, yo 7 LessonsView Details',\n",
       " 'Hands-on Java: Project-based Learning for Coding NovicesEmbark on a coding adventure with our \"Code, Create, Conquer\" Java camp! In just 7 days, kids will l 7 LessonsView Details',\n",
       " 'Python Playground: Create a Memory GamePython Playground: Create a Memory Game is a beginner-level course designed for kids who are interes 8 LessonsView Details',\n",
       " 'Summer Bootcamp: 5-Day Scratch Programming for BeginnersEmbark on an exciting coding adventure with our 5-day Scratch Programming camp! Designed for beginne 5 LessonsView Details',\n",
       " '5-Day Summer Camp: Python for BeginnersDive into coding with our 5-day \"Python Playground\" camp! Kids will explore Python, a popular langua 5 LessonsView Details',\n",
       " 'Build a Text analyzer using Python Bootcamp for kidsThe Build a Text Analyzer using Python Bootcamp for Kids is an educational program designed to intro 8 LessonsView Details',\n",
       " 'Scratch Playground : Create a Platformer Game!Scratch Playground : Create a Platformer Game is an intermediate level course designed to teach kids 8 LessonsView Details',\n",
       " 'Introduction to Artificial Intelligence!Welcome to the \"Introduction to Artificial Intelligence and Python\" course! This course is designed  5 LessonsView Details',\n",
       " 'Python Playground: Create a Rock, Paper, Scissors GameThis is an engaging course designed for kids who are interested in learning programming with Python. 8 LessonsView Details',\n",
       " 'AI in Stock Market Success: Career Growth Camp !!Are you ready to unlock the secrets of predicting stock prices using AI? 📈🤖 Join our immersive cou 10 LessonsView Details',\n",
       " 'From Beginner to AI Pro: Kickstart Your Journey With Artificial Intelligence! (For Kids)Dive into the world of AI! 🤖 Join our \"Introduction to Artificial Intelligence\" course and unlock t 20 LessonsView Details',\n",
       " 'Game development using python\\nWelcome to the \"Introduction to Python Game Development\" course! In this course, you\\'ll embark on a 4 LessonsView Details',\n",
       " 'Build a Image manipulator using Python Bootcamp for kidsThe Build a Image Manipulator using Python Bootcamp for Kids is a program designed to introduce chil 8 LessonsView Details',\n",
       " 'Build a Weather app using Python Bootcamp for kidsBuild a Weather App using Python Bootcamp for Kids is an educational program designed to introduce y 8 LessonsView Details',\n",
       " 'Build Your Own Roblox Battle ArenaRoblox Studio fundamentals are taught through fun and interactive projects. Lectures, projects, hand 8 LessonsView Details',\n",
       " \"The Millionaire's AI Playbook: Learn How to Predict Stock Prices! (For Kids)Learn to predict stock prices using the incredible potential of AI and machine learning in our compr 10 LessonsView Details\",\n",
       " 'Machine Learning: 7-Day Project-Based Summer CampJoin our \"Machine Learning Mania\" camp for a 7-day tech adventure! Kids will tackle machine learning 7 LessonsView Details',\n",
       " 'AI Pro Camp: Career Growth CatalystOur Intro to AI for Adults course is designed to equip professionals with essential knowledge and pr 20 LessonsView Details',\n",
       " 'Minecraft Java Programming for BeginnersSession-1: Introduction to Java programming and Minecraft. Lesson 2: Getting Started in Creative Mod 7 LessonsView Details',\n",
       " 'Build a Chatbot using Python Bootcamp for kidsThis bootcamp is a fun and interactive program designed to teach children how to create their own ch 8 LessonsView Details',\n",
       " 'Build a Password generator using Python Bootcamp for kidsWelcome to the Build a Password Generator using Python Bootcamp for Kids! In this bootcamp, you will 8 LessonsView Details',\n",
       " 'Scratch Playground: Create a Space Game!Scratch Playground : Create a Space Game is an intermediate-level course designed to introduce kids  8 LessonsView Details',\n",
       " 'Create Your Own Roblox Obstacle CourseRoblox enthusiasts who want to learn how to design and build their own custom obstacle courses withi 8 LessonsView Details',\n",
       " 'Java Minecraft Creative or Survival Mode1. Title: Minecraft Java Programming for Beginners Overview: This class is designed for complete beg 7 LessonsView Details',\n",
       " 'AI Camp for Jobs & Business:Build Your own ChatGPT🌟Welcome to the Chatbot Mastery Course! 🎓\\n\\nGet ready to unlock the secrets of building intelligent 10 LessonsView Details',\n",
       " 'HTML, CSS, JavaScript Essentials: 5-Day Coding BootcampUnleash your creativity in our fun and interactive 5-day summer camp. No prior experience needed. Yo 5 LessonsView DetailsWorking to bring significant changes in online-based learning by doing extensive research for course curriculum preparation, student engagements, and looking forward to the flexible education!ExploreHomeCoursesGift a CourseShare a MessageResourcesFAQContactAddressUSA(+1) 414 429 3937support@brainlox.com(+1) 414 429 39372025 BrainloxPrivacy PolicyTerms & Conditions']"
      ]
     },
     "execution_count": 6,
     "metadata": {},
     "output_type": "execute_result"
    }
   ],
   "source": [
    "course_data"
   ]
  },
  {
   "cell_type": "code",
   "execution_count": 7,
   "metadata": {},
   "outputs": [
    {
     "data": {
      "text/plain": [
       "63"
      ]
     },
     "execution_count": 7,
     "metadata": {},
     "output_type": "execute_result"
    }
   ],
   "source": [
    "len(course_data)"
   ]
  },
  {
   "cell_type": "code",
   "execution_count": 8,
   "metadata": {},
   "outputs": [],
   "source": [
    "from chromadb.utils import embedding_functions\n",
    "default_ef = embedding_functions.DefaultEmbeddingFunction()\n",
    "embeddings_list = default_ef(course_data) \n",
    "course_ids = [f\"course_{i}\" for i in range(len(course_data))]"
   ]
  },
  {
   "cell_type": "code",
   "execution_count": 10,
   "metadata": {},
   "outputs": [],
   "source": [
    "embeddings_2d = [embedding.tolist() for embedding in embeddings_list]"
   ]
  },
  {
   "cell_type": "code",
   "execution_count": 11,
   "metadata": {},
   "outputs": [
    {
     "data": {
      "text/plain": [
       "63"
      ]
     },
     "execution_count": 11,
     "metadata": {},
     "output_type": "execute_result"
    }
   ],
   "source": [
    "len(embeddings_2d)"
   ]
  },
  {
   "cell_type": "code",
   "execution_count": 12,
   "metadata": {},
   "outputs": [
    {
     "name": "stderr",
     "output_type": "stream",
     "text": [
      "/media/vinayak/New Volume/Prgramming/ml/nsaml/as/scrsap/as2/chat_bot/env/lib/python3.12/site-packages/tqdm/auto.py:21: TqdmWarning: IProgress not found. Please update jupyter and ipywidgets. See https://ipywidgets.readthedocs.io/en/stable/user_install.html\n",
      "  from .autonotebook import tqdm as notebook_tqdm\n"
     ]
    }
   ],
   "source": [
    "from chromadb import Documents, EmbeddingFunction, Embeddings\n",
    "from sentence_transformers import SentenceTransformer\n"
   ]
  },
  {
   "cell_type": "code",
   "execution_count": 13,
   "metadata": {},
   "outputs": [],
   "source": [
    "embedding_model = SentenceTransformer(\"BAAI/bge-small-en\")\n",
    "class MyEmbeddingFunction(EmbeddingFunction):\n",
    "    def __call__(self, input: Documents) -> Embeddings:\n",
    "        return embedding_model.encode(input).tolist()"
   ]
  },
  {
   "cell_type": "code",
   "execution_count": 14,
   "metadata": {},
   "outputs": [],
   "source": [
    "# Initialize ChromaDB client\n",
    "chroma_client = chromadb.PersistentClient(path=\"./chroma_db\")"
   ]
  },
  {
   "cell_type": "code",
   "execution_count": 19,
   "metadata": {},
   "outputs": [],
   "source": [
    "collection = chroma_client.get_or_create_collection(name=\"courses_collection\", embedding_function=MyEmbeddingFunction())"
   ]
  },
  {
   "cell_type": "code",
   "execution_count": 20,
   "metadata": {},
   "outputs": [],
   "source": [
    "collection.add(\n",
    "    documents=course_data,\n",
    "    ids=[str(i) for i in range(len(course_data))]\n",
    ")"
   ]
  },
  {
   "cell_type": "code",
   "execution_count": 21,
   "metadata": {},
   "outputs": [
    {
     "data": {
      "text/plain": [
       "{'ids': ['0',\n",
       "  '1',\n",
       "  '2',\n",
       "  '3',\n",
       "  '4',\n",
       "  '5',\n",
       "  '6',\n",
       "  '7',\n",
       "  '8',\n",
       "  '9',\n",
       "  '10',\n",
       "  '11',\n",
       "  '12',\n",
       "  '13',\n",
       "  '14',\n",
       "  '15',\n",
       "  '16',\n",
       "  '17',\n",
       "  '18',\n",
       "  '19',\n",
       "  '20',\n",
       "  '21',\n",
       "  '22',\n",
       "  '23',\n",
       "  '24',\n",
       "  '25',\n",
       "  '26',\n",
       "  '27',\n",
       "  '28',\n",
       "  '29',\n",
       "  '30',\n",
       "  '31',\n",
       "  '32',\n",
       "  '33',\n",
       "  '34',\n",
       "  '35',\n",
       "  '36',\n",
       "  '37',\n",
       "  '38',\n",
       "  '39',\n",
       "  '40',\n",
       "  '41',\n",
       "  '42',\n",
       "  '43',\n",
       "  '44',\n",
       "  '45',\n",
       "  '46',\n",
       "  '47',\n",
       "  '48',\n",
       "  '49',\n",
       "  '50',\n",
       "  '51',\n",
       "  '52',\n",
       "  '53',\n",
       "  '54',\n",
       "  '55',\n",
       "  '56',\n",
       "  '57',\n",
       "  '58',\n",
       "  '59',\n",
       "  '60',\n",
       "  '61',\n",
       "  '62'],\n",
       " 'embeddings': None,\n",
       " 'documents': ['Brainlox: Learn technical courses.Courses TechnicalAcademicLanguageMusicLifestyleBook a Free Demo NowSign InFAQContact UsHomeCoursesCoursesWe found great courses available for you',\n",
       "  'LEARN SCRATCH PROGRAMING\\nScratch Course is the foundation of coding and is a building block of a coding journey. If you want 16 LessonsView Details',\n",
       "  'LEARN CLOUD COMPUTING BASICS-AWS\\nIn this course we are going to cover the basics and the most important services on AWS,\\nAt the end  20 LessonsView Details',\n",
       "  'LEARN MOBILE DEVELOPMENT\\nMobile application development is the process of creating software applications that run on a mobil 24 LessonsView Details',\n",
       "  'LEARN CORE JAVA PROGRAMMING ONLINE\\nJava is a very popular high-level, class-based, object-oriented programming language that is design 41 LessonsView Details',\n",
       "  'LEARN ROBOTICS\\nYou can open all kinds of doors for advancement in so many careers with a basic understanding of el 25 LessonsView Details',\n",
       "  'LEARN JAVASCRIPT\\nJavaScript is the most popular programming language in the world. It powers the entire modern web.  18 LessonsView Details',\n",
       "  'LEARN NODE JS\\nNode.js developers are in high demand and the language is used for everything from traditional web  18 LessonsView Details$35per sessionLEARN CLOUD COMPUTING ADVANCE-AWSDESCRIPTION\\nThis introduction to cloud computing on Amazon AWS course takes you from the AWS Ad 18 LessonsView Details',\n",
       "  'PYTHON PROGRAMMING-BEGINNER\\nPython is a language with simple syntax, and a powerful set of libraries. It has a rich programming 16 LessonsView Details',\n",
       "  'Roblox Programming For BeginnersExplore the dynamic universe of game development with our \"Roblox Game Development Fundamentals\" cou 15 LessonsView Details$32per sessionPYTHON PROGRAMMING-INTERMEDIATE\\nTake your python skills to the next level and start building real applications.\\nPython is a pro 16 LessonsView Details$35per sessionPYTHON PROGRAMMING-ADVANCEIf you already know Python basics, then this training is the next step in your Python learning path  30 LessonsView Details',\n",
       "  'PYTHON PROGRAMMING GROUP CLASSES - BEGINNER\\nPython is a language with simple syntax, and a powerful set of libraries. It has a rich programming 16 LessonsView Details$35per sessionAdvanced Roblox Scripting Workshop\"Are you ready to unlock the full potential of your Roblox game development skills? Join our Interme 14 LessonsView Details',\n",
       "  'Robotics Adventure Awaits:Join Our Summer Camp for Young Tech Wizards!This course is designed to introduce beginners to the world of robotics. Learners will be taught the 16 LessonsView Details',\n",
       "  'Java Project-Based CourseJava Project-Based Course for Intermediate Level Students ;Overview: This course is designed for int 7 LessonsView Details',\n",
       "  'Artificial Intelligence Adventures: Building AI Chatbot Like Chatgpt (For Kids)Unlock the power of AI chatbots in our 10-day course! Gain comprehensive knowledge of chatbot develo 10 LessonsView Details',\n",
       "  'Python Playground: Create a Hangman GamePython Playground : Create a Hangman Game is an exciting and engaging course designed specifically f 8 LessonsView Details',\n",
       "  'Scratch Playground: Create a Maze Game!Scratch Playground : Create a Maze Game! is a beginner-level course designed to introduce kids to th 8 LessonsView Details',\n",
       "  'Artificial Intelligence Essentials: Summer BootcampJoin us for this engaging 5-day summer bootcamp where we will explore the fascinating world of Artif 5 LessonsView Details',\n",
       "  'Time Mastery Camp: AI for Jobs, Business, CareersThe \"AI for Productivity and Time Management\" course: 🚀💡\\nDay 1: Introduction to AI and its Applica 11 LessonsView Details',\n",
       "  'Build Your Own Theme Park in RobloxRoblox Studio fundamentals are taught through fun and interactive projects. Lectures, projects, hand 8 LessonsView Details',\n",
       "  'Java Coding Summer Camp for Young MindsJava Journey: Coding Camp for Curious Minds\" is a fun-filled, 5-day adventure into the world of prog 5 LessonsView Details',\n",
       "  'AI Camp for Entrepreneurs: Build Business SuccessWelcome to the world of AI in entrepreneurship!  In this course, we will embark on a thrilling journ 7 LessonsView Details',\n",
       "  \"ChatGPT Boot Camp: Basics & Best UsesJoin us for an exciting journey into the world of AI chatbots with this 5-day bootcamp. You'll learn 5 LessonsView Details\",\n",
       "  'Create-A-Bot: A Project-Based Robotics ExplorationIgnite your child\\'s tech curiosity with our \"RoboRacers\" camp! Over five days, campers will delve in 5 LessonsView Details',\n",
       "  'Java & Proramming\" Project outline for JAVA PROJECT BASED BOOTCAMP\\n1: Introduction to Java and Programming Basics.\\n2. 8 LessonsView Details',\n",
       "  'Chatbot Creators: Design a ChatGPT-like AIJoin us on a 7-day bootcamp to step into the world of AI and create your own chatbot like ChatGPT. Y 7 LessonsView Details',\n",
       "  'Web Development from scratchUnlock the boundless potential of web development with our \"Web Development Essentials\" course. Whet 6 LessonsView Details',\n",
       "  'Summer Camp: Introduction to PythonStep into our 7-day \"Python Project Playground\" camp where coding meets creativity! Kids will explor 7 LessonsView Details',\n",
       "  'AI Secrets Revealed: Master Productivity Hacks That Will Blow Your Mind! (For Kids)Boost your productivity with AI! \\n\\nJoin our \"AI for Productivity and Time Management\" course and lea 11 LessonsView Details',\n",
       "  \"Summer Bootcamp with JavaScript: Real Projects, Real ResultsIn this 5-day camp, you'll dive headfirst into JavaScript, one of the world's most popular programmi 5 LessonsView Details\",\n",
       "  'AI Disruption: Top Entrepreneurs Harnessing AI for Unprecedented Success! (For Kids)Understand the role and potential of AI in entrepreneurship, learn the fundamentals, explore data ac 7 LessonsView Details',\n",
       "  'The AI Writer\\'s Masterclass: Innovation and Inspiration in Creative Writing! (For Kids)Enhance your creative writing skills with AI! Join our 10-day course and explore AI\\'s role in writin 10 LessonsView Details$32per sessionWeb Development Pro: Intermediate LevelReady to unlock the full potential of web development? Join our \"Intermediate Web Development Master 8 LessonsView Details',\n",
       "  'Scratch Playground: Create a Scroller Game!Scratch Playground : Create a Scroller Game is an intermediate level course designed to teach kids t 8 LessonsView Details',\n",
       "  'AI Pro: Creative Writing Camp for Adults🚀 Welcome to Creative Writing with AI for ADULTS! \\nUnleash your creativity with cutting-edge AI tec 10 LessonsView Details',\n",
       "  'Python Playground: Create Your Own Snake GameThrough this course, participants will learn the fundamentals of Python programming language, as wel 8 LessonsView Details',\n",
       "  'Build your own Calculator using Python Bootcamp for kidsThis bootcamp is a fun and engaging program designed to introduce children to the basics of programm 8 LessonsView Details',\n",
       "  'Python Playground: Create a Tic Tac Toe GameAn interactive and hands-on tutorial designed to help learners build their programming skills while  8 LessonsView Details',\n",
       "  'Scratch Playground: Create a Flappy Bird Game!Scratch Playground 103: Create a Flappy Bird is a beginner to intermediate level course designed to  8 LessonsView Details',\n",
       "  'HTML, CSS, JavaScript: 7-Day Summer BootcampJump into the vibrant world of coding with our engaging 7-day summer camp! Starting from scratch, yo 7 LessonsView Details',\n",
       "  'Hands-on Java: Project-based Learning for Coding NovicesEmbark on a coding adventure with our \"Code, Create, Conquer\" Java camp! In just 7 days, kids will l 7 LessonsView Details',\n",
       "  'Python Playground: Create a Memory GamePython Playground: Create a Memory Game is a beginner-level course designed for kids who are interes 8 LessonsView Details',\n",
       "  'Summer Bootcamp: 5-Day Scratch Programming for BeginnersEmbark on an exciting coding adventure with our 5-day Scratch Programming camp! Designed for beginne 5 LessonsView Details',\n",
       "  '5-Day Summer Camp: Python for BeginnersDive into coding with our 5-day \"Python Playground\" camp! Kids will explore Python, a popular langua 5 LessonsView Details',\n",
       "  'Build a Text analyzer using Python Bootcamp for kidsThe Build a Text Analyzer using Python Bootcamp for Kids is an educational program designed to intro 8 LessonsView Details',\n",
       "  'Scratch Playground : Create a Platformer Game!Scratch Playground : Create a Platformer Game is an intermediate level course designed to teach kids 8 LessonsView Details',\n",
       "  'Introduction to Artificial Intelligence!Welcome to the \"Introduction to Artificial Intelligence and Python\" course! This course is designed  5 LessonsView Details',\n",
       "  'Python Playground: Create a Rock, Paper, Scissors GameThis is an engaging course designed for kids who are interested in learning programming with Python. 8 LessonsView Details',\n",
       "  'AI in Stock Market Success: Career Growth Camp !!Are you ready to unlock the secrets of predicting stock prices using AI? 📈🤖 Join our immersive cou 10 LessonsView Details',\n",
       "  'From Beginner to AI Pro: Kickstart Your Journey With Artificial Intelligence! (For Kids)Dive into the world of AI! 🤖 Join our \"Introduction to Artificial Intelligence\" course and unlock t 20 LessonsView Details',\n",
       "  'Game development using python\\nWelcome to the \"Introduction to Python Game Development\" course! In this course, you\\'ll embark on a 4 LessonsView Details',\n",
       "  'Build a Image manipulator using Python Bootcamp for kidsThe Build a Image Manipulator using Python Bootcamp for Kids is a program designed to introduce chil 8 LessonsView Details',\n",
       "  'Build a Weather app using Python Bootcamp for kidsBuild a Weather App using Python Bootcamp for Kids is an educational program designed to introduce y 8 LessonsView Details',\n",
       "  'Build Your Own Roblox Battle ArenaRoblox Studio fundamentals are taught through fun and interactive projects. Lectures, projects, hand 8 LessonsView Details',\n",
       "  \"The Millionaire's AI Playbook: Learn How to Predict Stock Prices! (For Kids)Learn to predict stock prices using the incredible potential of AI and machine learning in our compr 10 LessonsView Details\",\n",
       "  'Machine Learning: 7-Day Project-Based Summer CampJoin our \"Machine Learning Mania\" camp for a 7-day tech adventure! Kids will tackle machine learning 7 LessonsView Details',\n",
       "  'AI Pro Camp: Career Growth CatalystOur Intro to AI for Adults course is designed to equip professionals with essential knowledge and pr 20 LessonsView Details',\n",
       "  'Minecraft Java Programming for BeginnersSession-1: Introduction to Java programming and Minecraft. Lesson 2: Getting Started in Creative Mod 7 LessonsView Details',\n",
       "  'Build a Chatbot using Python Bootcamp for kidsThis bootcamp is a fun and interactive program designed to teach children how to create their own ch 8 LessonsView Details',\n",
       "  'Build a Password generator using Python Bootcamp for kidsWelcome to the Build a Password Generator using Python Bootcamp for Kids! In this bootcamp, you will 8 LessonsView Details',\n",
       "  'Scratch Playground: Create a Space Game!Scratch Playground : Create a Space Game is an intermediate-level course designed to introduce kids  8 LessonsView Details',\n",
       "  'Create Your Own Roblox Obstacle CourseRoblox enthusiasts who want to learn how to design and build their own custom obstacle courses withi 8 LessonsView Details',\n",
       "  'Java Minecraft Creative or Survival Mode1. Title: Minecraft Java Programming for Beginners Overview: This class is designed for complete beg 7 LessonsView Details',\n",
       "  'AI Camp for Jobs & Business:Build Your own ChatGPT🌟Welcome to the Chatbot Mastery Course! 🎓\\n\\nGet ready to unlock the secrets of building intelligent 10 LessonsView Details',\n",
       "  'HTML, CSS, JavaScript Essentials: 5-Day Coding BootcampUnleash your creativity in our fun and interactive 5-day summer camp. No prior experience needed. Yo 5 LessonsView DetailsWorking to bring significant changes in online-based learning by doing extensive research for course curriculum preparation, student engagements, and looking forward to the flexible education!ExploreHomeCoursesGift a CourseShare a MessageResourcesFAQContactAddressUSA(+1) 414 429 3937support@brainlox.com(+1) 414 429 39372025 BrainloxPrivacy PolicyTerms & Conditions'],\n",
       " 'uris': None,\n",
       " 'data': None,\n",
       " 'metadatas': [None,\n",
       "  None,\n",
       "  None,\n",
       "  None,\n",
       "  None,\n",
       "  None,\n",
       "  None,\n",
       "  None,\n",
       "  None,\n",
       "  None,\n",
       "  None,\n",
       "  None,\n",
       "  None,\n",
       "  None,\n",
       "  None,\n",
       "  None,\n",
       "  None,\n",
       "  None,\n",
       "  None,\n",
       "  None,\n",
       "  None,\n",
       "  None,\n",
       "  None,\n",
       "  None,\n",
       "  None,\n",
       "  None,\n",
       "  None,\n",
       "  None,\n",
       "  None,\n",
       "  None,\n",
       "  None,\n",
       "  None,\n",
       "  None,\n",
       "  None,\n",
       "  None,\n",
       "  None,\n",
       "  None,\n",
       "  None,\n",
       "  None,\n",
       "  None,\n",
       "  None,\n",
       "  None,\n",
       "  None,\n",
       "  None,\n",
       "  None,\n",
       "  None,\n",
       "  None,\n",
       "  None,\n",
       "  None,\n",
       "  None,\n",
       "  None,\n",
       "  None,\n",
       "  None,\n",
       "  None,\n",
       "  None,\n",
       "  None,\n",
       "  None,\n",
       "  None,\n",
       "  None,\n",
       "  None,\n",
       "  None,\n",
       "  None,\n",
       "  None],\n",
       " 'included': [<IncludeEnum.documents: 'documents'>,\n",
       "  <IncludeEnum.metadatas: 'metadatas'>]}"
      ]
     },
     "execution_count": 21,
     "metadata": {},
     "output_type": "execute_result"
    }
   ],
   "source": [
    "collection.get()"
   ]
  },
  {
   "cell_type": "code",
   "execution_count": 22,
   "metadata": {},
   "outputs": [
    {
     "data": {
      "text/plain": [
       "{'ids': ['1'],\n",
       " 'embeddings': None,\n",
       " 'documents': ['LEARN SCRATCH PROGRAMING\\nScratch Course is the foundation of coding and is a building block of a coding journey. If you want 16 LessonsView Details'],\n",
       " 'uris': None,\n",
       " 'data': None,\n",
       " 'metadatas': [None],\n",
       " 'included': [<IncludeEnum.documents: 'documents'>,\n",
       "  <IncludeEnum.metadatas: 'metadatas'>]}"
      ]
     },
     "execution_count": 22,
     "metadata": {},
     "output_type": "execute_result"
    }
   ],
   "source": [
    "collection.get(ids=['1'])"
   ]
  },
  {
   "cell_type": "code",
   "execution_count": 24,
   "metadata": {},
   "outputs": [
    {
     "name": "stdout",
     "output_type": "stream",
     "text": [
      "Search Results: {'ids': [['35', '33', '8']], 'embeddings': None, 'documents': [['Python Playground: Create a Tic Tac Toe GameAn interactive and hands-on tutorial designed to help learners build their programming skills while  8 LessonsView Details', 'Python Playground: Create Your Own Snake GameThrough this course, participants will learn the fundamentals of Python programming language, as wel 8 LessonsView Details', 'PYTHON PROGRAMMING-BEGINNER\\nPython is a language with simple syntax, and a powerful set of libraries. It has a rich programming 16 LessonsView Details']], 'uris': None, 'data': None, 'metadatas': [[None, None, None]], 'distances': [[0.1973507013621699, 0.19918437032878522, 0.2065759517655007]], 'included': [<IncludeEnum.distances: 'distances'>, <IncludeEnum.documents: 'documents'>, <IncludeEnum.metadatas: 'metadatas'>]}\n"
     ]
    }
   ],
   "source": [
    "query_text = \"Learn python\"\n",
    "results = collection.query(\n",
    "    query_texts=[query_text],\n",
    "    n_results=3  # Retrieve top 3 matches\n",
    ")\n",
    "\n",
    "print(\"Search Results:\", results)"
   ]
  },
  {
   "cell_type": "code",
   "execution_count": null,
   "metadata": {},
   "outputs": [],
   "source": []
  }
 ],
 "metadata": {
  "kernelspec": {
   "display_name": "env",
   "language": "python",
   "name": "python3"
  },
  "language_info": {
   "codemirror_mode": {
    "name": "ipython",
    "version": 3
   },
   "file_extension": ".py",
   "mimetype": "text/x-python",
   "name": "python",
   "nbconvert_exporter": "python",
   "pygments_lexer": "ipython3",
   "version": "3.12.3"
  }
 },
 "nbformat": 4,
 "nbformat_minor": 2
}
